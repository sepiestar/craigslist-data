{
 "cells": [
  {
   "cell_type": "code",
   "execution_count": 58,
   "id": "8fe02e67",
   "metadata": {},
   "outputs": [],
   "source": [
    " my_dict= {'acc': 23,'act': 35,'aos': 106,'apa': 1,'app': 149,'ard': 170,'art': 135,'atd': 169,'atq': 150,'ats': 70,'avd': 209,'avo': 208,'bab': 107,'bad': 171,'bar': 42,'bdp': 198,'bfd': 174,'bfs': 134,'bid': 172,'bik': 68,'biz': 4,'bkd': 173,'bks': 92,'boa': 119,'bod': 164,'bop': 197,'bpd': 202,'bpo': 201,'bts': 138,'bus': 12,'cbd': 177,'cld': 176,'clo': 94,'cls': 38,'clt': 95,'cms': 207,'com': 3,'cpg': 110,'cps': 76,'crg': 114,'crs': 77,'csr': 100,'ctd': 146,'cto': 145,'cwg': 109,\n",
    "'cys': 158,\n",
    "'dmg': 113,\n",
    "'edu': 57,\n",
    "'egr': 48,\n",
    "'eld': 167,\n",
    "'ele': 96,\n",
    "'emd': 117,\n",
    "'emq': 175,\n",
    "'etc': 15,\n",
    "'eve': 8,\n",
    "'evg': 115,\n",
    "'evs': 79,\n",
    "'fbh': 129,\n",
    "'fgs': 154,\n",
    "'fns': 104,\n",
    "'fod': 179,\n",
    "'forr': 5,\n",
    "'fud': 142,\n",
    "'fuo': 141,\n",
    "'gms': 73,\n",
    "'gov': 61,\n",
    "'grd': 133,\n",
    "'grp': 91,\n",
    "'grq': 178,\n",
    "'hab': 152,\n",
    "'had': 180,\n",
    "'hea': 26,\n",
    "'hou': 2,\n",
    "'hsd': 181,\n",
    "'hsh': 97,\n",
    "'hss': 80,\n",
    "'hum': 54,\n",
    "'hvd': 194,\n",
    "'hvo': 193,\n",
    "'hws': 210,\n",
    "'jwd': 182,\n",
    "'jwl': 120,\n",
    "'kid': 56,\n",
    "'lab': 130,\n",
    "'laf': 88,\n",
    "'lbg': 111,\n",
    "'lbs': 82,\n",
    "'lgl': 47,\n",
    "'lgs': 103,\n",
    "'lss': 81,\n",
    "'mad': 183,\n",
    "'mar': 13,\n",
    "'mas': 156,\n",
    "'mat': 136,\n",
    "'mcd': 160,\n",
    "'mcy': 69,\n",
    "'med': 25,\n",
    "'mis': 63,\n",
    "'mnu': 128,\n",
    "'mob': 153,\n",
    "'mod': 165,\n",
    "'mpd': 196,\n",
    "'mpo': 195,\n",
    "'msd': 184,\n",
    "'msg': 98,\n",
    "'muc': 71,\n",
    "'npo': 28,\n",
    "'ofc': 24,\n",
    "'off': 40,\n",
    "'pas': 155,\n",
    "'pet': 37,\n",
    "'phd': 185,\n",
    "'pho': 137,\n",
    "'pol': 87,\n",
    "'ppd': 162,\n",
    "'prk': 41,\n",
    "'ptd': 163,\n",
    "'pts': 122,\n",
    "'reb': 144,\n",
    "'rej': 127,\n",
    "'reo': 143,\n",
    "'res': 10,\n",
    "'ret': 27,\n",
    "'rew': 121,\n",
    "'rid': 36,\n",
    "'rnr': 90,\n",
    "'roo': 18,\n",
    "'rts': 105,\n",
    "'rvd': 168,\n",
    "'rvs': 124,\n",
    "'sad': 50,\n",
    "'sbw': 58,\n",
    "'sci': 75,\n",
    "'sdp': 200,\n",
    "'sec': 131,\n",
    "'sgd': 186,\n",
    "'sha': 19,\n",
    "'sks': 83,\n",
    "'sls': 49,\n",
    "'snd': 192,\n",
    "'snw': 191,\n",
    "'sof': 21,\n",
    "'sop': 199,\n",
    "'spa': 126,\n",
    "'spo': 93,\n",
    "'sub': 39,\n",
    "'swp': 65,\n",
    "'syd': 166,\n",
    "'sys': 7,\n",
    "'tad': 188,\n",
    "'tag': 132,\n",
    "'tch': 55,\n",
    "'tfr': 52,\n",
    "'tid': 161,\n",
    "'tix': 44,\n",
    "'tld': 187,\n",
    "'tlg': 108,\n",
    "'tls': 118,\n",
    "'trb': 206,\n",
    "'trd': 59,\n",
    "'tro': 205,\n",
    "'trp': 125,\n",
    "'trv': 140,\n",
    "'vac': 99,\n",
    "'vgd': 189,\n",
    "'vgm': 151,\n",
    "'vnn': 116,\n",
    "'vol': 29,\n",
    "'wad': 190,\n",
    "'wan': 20,\n",
    "'web': 11,\n",
    "'wet': 139,\n",
    "'wrg': 112,\n",
    "'wri': 16,\n",
    "'wtd': 204,\n",
    "'wto': 203,\n",
    "'zipp': 101,\n",
    "'hsw': -1\n",
    "        }\n",
    "areas_id=[3,14,15,4,11,21,13,22,23,26,7,20,19,103,17,18,9,36,12,8,2,1,10]"
   ]
  },
  {
   "cell_type": "code",
   "execution_count": 59,
   "id": "ee062e5f",
   "metadata": {},
   "outputs": [],
   "source": [
    "from bs4 import BeautifulSoup\n",
    "import requests\n",
    "import json\n",
    "import pandas as pd\n",
    "import re\n",
    "from concurrent.futures import ThreadPoolExecutor\n",
    "from tqdm import tqdm\n",
    "import pandas as pd"
   ]
  },
  {
   "cell_type": "code",
   "execution_count": 73,
   "id": "25960bd4",
   "metadata": {},
   "outputs": [],
   "source": [
    "\n",
    "def get_location():\n",
    "    for id in areas_id:\n",
    "        url=f'https://sapi.craigslist.org/web/v8/postings/search/full?batch={id}-0-360-0-0&cc=US&lang=en&query=focus%20groups&searchPath=ggg'\n",
    "        #print(url)\n",
    "        response=requests.get(url)\n",
    "        json_response=json.loads(response.text)\n",
    "        the_location=json_response['data']['decode']['locations']#getting the location\n",
    "        loc_dict={}\n",
    "        lst=list(the_location)\n",
    "        for i in range(len(lst)):\n",
    "            try:\n",
    "                loc_dict[i]=lst[i][1]\n",
    "            except :\n",
    "                pass\n",
    "        \n",
    "\n",
    "        \n",
    "\n"
   ]
  },
  {
   "cell_type": "code",
   "execution_count": 83,
   "id": "d189f8e7",
   "metadata": {
    "scrolled": true
   },
   "outputs": [],
   "source": [
    "def get_urls():\n",
    "    #getting the urls of the location\n",
    "    city_urls=[]\n",
    "    for id in tqdm(areas_id,desc='getting all the urls'):\n",
    "        url=f'https://sapi.craigslist.org/web/v8/postings/search/full?batch={id}-0-360-0-0&cc=US&lang=en&query=focus%20groups&searchPath=ggg' \n",
    "        response=requests.get(url)\n",
    "        json_response=json.loads(response.text)\n",
    "        details=json_response['data']['items']\n",
    "        pattern=r'\\w+-.*'\n",
    "        pattern2= r'\\d:\\d:|\\d:\\d~'\n",
    "        area_numbers=[]\n",
    "        location_details=json_response['data']['decode']['locations'] \n",
    "        loc_dict={}\n",
    "        lst=list(location_details)\n",
    "        for i in range(len(lst)):\n",
    "            try:\n",
    "                loc_dict[i]=lst[i][1]\n",
    "            except :\n",
    "                pass\n",
    "        for i in range(len(details)):\n",
    "             #getting the numbers at the end of the link\n",
    "            minPostingId=json_response['data']['decode']['minPostingId']\n",
    "            location_data=json_response['data']['items'][i][0]\n",
    "            num_end=minPostingId+location_data\n",
    "\n",
    "\n",
    "\n",
    "         #very funny code to find the info url,,,,\n",
    "\n",
    "            for item in details[i]:\n",
    "                if type(item)==str:\n",
    "                    area_num=re.search(pattern2,item)\n",
    "                    if area_num:\n",
    "                        res=area_num.group()\n",
    "                        split_res=res.split(':')\n",
    "                        #print(split_res)\n",
    "                        if int(split_res[0])!=0:\n",
    "                            location=loc_dict[int(split_res[0])]\n",
    "                        \n",
    "                if type(item)==list:\n",
    "                          for loc in item:\n",
    "                             if type(loc)==str:\n",
    "                                match=re.search(pattern,loc)\n",
    "                                if match:\n",
    "                                    result=match.group(0)\n",
    "                                    info_url=result\n",
    "\n",
    "        #gettiing the area code.....lbg,cfg etc\n",
    "            code=details[i][2]\n",
    "            for key,value in my_dict.items():\n",
    "                if value==code:\n",
    "                    abbr=key  \n",
    "    \n",
    "\n",
    "\n",
    "  \n",
    "            resulting_url=f'https://{location}.craigslist.org/{abbr}/d/{info_url}/{num_end}.html'\n",
    "            resulting_url=resulting_url.replace(' ','-')\n",
    "            #print(resulting_url)\n",
    "            city_urls.append(resulting_url)\n",
    "            #print(len(city_urls))\n",
    "    return city_urls[1202:1331]\n",
    "\n",
    "\n",
    "\n",
    "\n",
    "\n",
    "\n",
    "  \n",
    "\n",
    "\n",
    "   \n",
    "\n"
   ]
  },
  {
   "cell_type": "code",
   "execution_count": 84,
   "id": "e09e8081",
   "metadata": {},
   "outputs": [],
   "source": [
    "titles=[]\n",
    "compensations=[]\n",
    "date_postings=[]\n",
    "posting_ids=[]\n",
    "descriptions=[]\n",
    "links=[]\n",
    "def get_scraping_contents(citys_urls):\n",
    "    for linkie in tqdm(citys_urls,desc='Scraping the contents of the urls '):\n",
    "        #url='https://sacramento.craigslist.org/tlg/d/500-700-per-class/7621462211.html'\n",
    "        #url='https://newyork.craigslist.org/dmg/d/new-york-focus-group-on-coffee-in-new/7622082927.html'\n",
    "        response=requests.get(linkie)\n",
    "        if response.status_code==200:\n",
    "            doc=BeautifulSoup(response.text,'html.parser')\n",
    "            title=doc.find('span',class_='postingtitletext').text.strip()\n",
    "            titles.append(title)\n",
    "            compensation=doc.find('p',class_='attrgroup').text.strip()\n",
    "            compensations.append(compensation)\n",
    "            posting_info = doc.find('p', class_='postinginfo reveal')\n",
    "            date_posting= posting_info.find('time', class_='date timeago').text.strip()\n",
    "            date_postings.append(date_posting)\n",
    "            posting_id=doc.find('div',class_='postinginfos')\n",
    "            id_post=posting_id.find('p',class_='postinginfo').text.strip()\n",
    "            posting_ids.append(id_post)\n",
    "            description=doc.find('section',id=\"postingbody\").text.strip()\n",
    "            descriptions.append(description)\n",
    "            link_group=doc.find('link')['href']\n",
    "            links.append(link_group)\n",
    "            print(link_group)\n",
    "    return pd.DataFrame({\n",
    "       'Title':titles,\n",
    "       'links':links,\n",
    "       'compensation':compensations,\n",
    "       'date_positng':date_postings,\n",
    "       'posting_id':posting_ids,\n",
    "       'description':descriptions\n",
    "    })\n",
    "        #print(date_posting)\n",
    "        #print(f\"title,{title},compensation:{compensation},date_posting:{date_posting},POST_ID:{id_post},DESC:{description}\")"
   ]
  },
  {
   "cell_type": "code",
   "execution_count": 85,
   "id": "6a7ec9d4",
   "metadata": {},
   "outputs": [],
   "source": [
    "def scraping():\n",
    "    for i in range(0,100        )\n",
    "    df=get_scraping_contents(get_urls())\n",
    "    return df.to_csv('FOCUS GROUP.csv',index=None)"
   ]
  },
  {
   "cell_type": "code",
   "execution_count": 86,
   "id": "ca1ec7e7",
   "metadata": {
    "scrolled": false
   },
   "outputs": [
    {
     "name": "stderr",
     "output_type": "stream",
     "text": [
      "getting all the urls: 100%|████████████████████████████████████████████████████████████| 23/23 [00:34<00:00,  1.52s/it]\n",
      "Scraping the contents of the urls :   1%|▋                                              | 1/72 [00:01<02:07,  1.80s/it]"
     ]
    },
    {
     "name": "stdout",
     "output_type": "stream",
     "text": [
      "https://sfbay.craigslist.org/sby/lbg/d/santa-clara-having-trouble-focusing/7620348616.html\n"
     ]
    },
    {
     "name": "stderr",
     "output_type": "stream",
     "text": [
      "\r",
      "Scraping the contents of the urls :   3%|█▎                                             | 2/72 [00:03<02:15,  1.93s/it]"
     ]
    },
    {
     "name": "stdout",
     "output_type": "stream",
     "text": [
      "https://sfbay.craigslist.org/eby/evg/d/concord-retail-event-marketer/7612660751.html\n"
     ]
    },
    {
     "name": "stderr",
     "output_type": "stream",
     "text": [
      "\r",
      "Scraping the contents of the urls :   4%|█▉                                             | 3/72 [00:05<02:16,  1.97s/it]"
     ]
    },
    {
     "name": "stdout",
     "output_type": "stream",
     "text": [
      "https://sfbay.craigslist.org/eby/evg/d/concord-retail-event-marketer/7611968266.html\n"
     ]
    },
    {
     "name": "stderr",
     "output_type": "stream",
     "text": [
      "\r",
      "Scraping the contents of the urls :   6%|██▌                                            | 4/72 [00:07<02:09,  1.90s/it]"
     ]
    },
    {
     "name": "stdout",
     "output_type": "stream",
     "text": [
      "https://sfbay.craigslist.org/sby/evg/d/san-jose-wedding-videographers-wanted/7617046815.html\n"
     ]
    },
    {
     "name": "stderr",
     "output_type": "stream",
     "text": [
      "\r",
      "Scraping the contents of the urls :   7%|███▎                                           | 5/72 [00:09<02:05,  1.87s/it]"
     ]
    },
    {
     "name": "stdout",
     "output_type": "stream",
     "text": [
      "https://sfbay.craigslist.org/eby/evg/d/san-jose-wedding-photographers-wanted/7617046640.html\n"
     ]
    },
    {
     "name": "stderr",
     "output_type": "stream",
     "text": [
      "\r",
      "Scraping the contents of the urls :   8%|███▉                                           | 6/72 [00:11<02:01,  1.84s/it]"
     ]
    },
    {
     "name": "stdout",
     "output_type": "stream",
     "text": [
      "https://sfbay.craigslist.org/sfc/evg/d/san-francisco-wedding-videographers/7617046389.html\n"
     ]
    },
    {
     "name": "stderr",
     "output_type": "stream",
     "text": [
      "\r",
      "Scraping the contents of the urls :  10%|████▌                                          | 7/72 [00:13<01:59,  1.83s/it]"
     ]
    },
    {
     "name": "stdout",
     "output_type": "stream",
     "text": [
      "https://sfbay.craigslist.org/sfc/evg/d/san-francisco-wedding-photographers/7617046226.html\n"
     ]
    },
    {
     "name": "stderr",
     "output_type": "stream",
     "text": [
      "\r",
      "Scraping the contents of the urls :  11%|█████▏                                         | 8/72 [00:14<01:56,  1.82s/it]"
     ]
    },
    {
     "name": "stdout",
     "output_type": "stream",
     "text": [
      "https://sfbay.craigslist.org/sfc/dmg/d/san-francisco-having-trouble-focusing/7615278358.html\n"
     ]
    },
    {
     "name": "stderr",
     "output_type": "stream",
     "text": [
      "\r",
      "Scraping the contents of the urls :  12%|█████▉                                         | 9/72 [00:16<01:59,  1.90s/it]"
     ]
    },
    {
     "name": "stdout",
     "output_type": "stream",
     "text": [
      "https://washingtondc.craigslist.org/doc/dmg/d/washington-focus-group-on-healthcare/7620299768.html\n"
     ]
    },
    {
     "name": "stderr",
     "output_type": "stream",
     "text": [
      "\r",
      "Scraping the contents of the urls :  14%|██████▍                                       | 10/72 [00:18<01:55,  1.86s/it]"
     ]
    },
    {
     "name": "stdout",
     "output_type": "stream",
     "text": [
      "https://washingtondc.craigslist.org/mld/evg/d/potomac-in-person-focus-groups-thurs-27/7611694274.html\n"
     ]
    },
    {
     "name": "stderr",
     "output_type": "stream",
     "text": [
      "\r",
      "Scraping the contents of the urls :  15%|███████                                       | 11/72 [00:20<01:57,  1.93s/it]"
     ]
    },
    {
     "name": "stdout",
     "output_type": "stream",
     "text": [
      "https://washingtondc.craigslist.org/mld/evg/d/washington-retail-event-marketer/7622023068.html\n"
     ]
    },
    {
     "name": "stderr",
     "output_type": "stream",
     "text": [
      "\r",
      "Scraping the contents of the urls :  17%|███████▋                                      | 12/72 [00:22<01:57,  1.96s/it]"
     ]
    },
    {
     "name": "stdout",
     "output_type": "stream",
     "text": [
      "https://washingtondc.craigslist.org/mld/evg/d/district-heights-retail-event-marketer/7622022181.html\n"
     ]
    },
    {
     "name": "stderr",
     "output_type": "stream",
     "text": [
      "\r",
      "Scraping the contents of the urls :  18%|████████▎                                     | 13/72 [00:24<01:56,  1.97s/it]"
     ]
    },
    {
     "name": "stdout",
     "output_type": "stream",
     "text": [
      "https://washingtondc.craigslist.org/nva/evg/d/sterling-retail-event-marketer/7622022132.html\n"
     ]
    },
    {
     "name": "stderr",
     "output_type": "stream",
     "text": [
      "\r",
      "Scraping the contents of the urls :  19%|████████▉                                     | 14/72 [00:26<01:55,  1.98s/it]"
     ]
    },
    {
     "name": "stdout",
     "output_type": "stream",
     "text": [
      "https://washingtondc.craigslist.org/nva/evg/d/chantilly-retail-event-marketer/7622020238.html\n"
     ]
    },
    {
     "name": "stderr",
     "output_type": "stream",
     "text": [
      "\r",
      "Scraping the contents of the urls :  21%|█████████▌                                    | 15/72 [00:28<01:53,  2.00s/it]"
     ]
    },
    {
     "name": "stdout",
     "output_type": "stream",
     "text": [
      "https://washingtondc.craigslist.org/nva/evg/d/woodbridge-retail-event-marketer/7622020176.html\n"
     ]
    },
    {
     "name": "stderr",
     "output_type": "stream",
     "text": [
      "\r",
      "Scraping the contents of the urls :  22%|██████████▏                                   | 16/72 [00:30<01:51,  1.99s/it]"
     ]
    },
    {
     "name": "stdout",
     "output_type": "stream",
     "text": [
      "https://washingtondc.craigslist.org/nva/evg/d/centreville-retail-event-marketer/7621526201.html\n"
     ]
    },
    {
     "name": "stderr",
     "output_type": "stream",
     "text": [
      "\r",
      "Scraping the contents of the urls :  24%|██████████▊                                   | 17/72 [00:32<01:50,  2.01s/it]"
     ]
    },
    {
     "name": "stdout",
     "output_type": "stream",
     "text": [
      "https://washingtondc.craigslist.org/nva/evg/d/centreville-retail-event-marketer/7620597764.html\n"
     ]
    },
    {
     "name": "stderr",
     "output_type": "stream",
     "text": [
      "\r",
      "Scraping the contents of the urls :  25%|███████████▌                                  | 18/72 [00:34<01:49,  2.03s/it]"
     ]
    },
    {
     "name": "stdout",
     "output_type": "stream",
     "text": [
      "https://washingtondc.craigslist.org/nva/evg/d/centreville-retail-event-marketer/7620259472.html\n"
     ]
    },
    {
     "name": "stderr",
     "output_type": "stream",
     "text": [
      "\r",
      "Scraping the contents of the urls :  26%|████████████▏                                 | 19/72 [00:36<01:47,  2.03s/it]"
     ]
    },
    {
     "name": "stdout",
     "output_type": "stream",
     "text": [
      "https://washingtondc.craigslist.org/mld/evg/d/washington-retail-event-marketer/7620259459.html\n"
     ]
    },
    {
     "name": "stderr",
     "output_type": "stream",
     "text": [
      "\r",
      "Scraping the contents of the urls :  28%|████████████▊                                 | 20/72 [00:39<01:45,  2.03s/it]"
     ]
    },
    {
     "name": "stdout",
     "output_type": "stream",
     "text": [
      "https://washingtondc.craigslist.org/mld/evg/d/district-heights-retail-event-marketer/7620258803.html\n"
     ]
    },
    {
     "name": "stderr",
     "output_type": "stream",
     "text": [
      "\r",
      "Scraping the contents of the urls :  29%|█████████████▍                                | 21/72 [00:40<01:42,  2.01s/it]"
     ]
    },
    {
     "name": "stdout",
     "output_type": "stream",
     "text": [
      "https://washingtondc.craigslist.org/nva/evg/d/sterling-retail-event-marketer/7620258786.html\n"
     ]
    },
    {
     "name": "stderr",
     "output_type": "stream",
     "text": [
      "\r",
      "Scraping the contents of the urls :  31%|██████████████                                | 22/72 [00:43<01:41,  2.02s/it]"
     ]
    },
    {
     "name": "stdout",
     "output_type": "stream",
     "text": [
      "https://washingtondc.craigslist.org/nva/evg/d/chantilly-retail-event-marketer/7620257593.html\n"
     ]
    },
    {
     "name": "stderr",
     "output_type": "stream",
     "text": [
      "\r",
      "Scraping the contents of the urls :  32%|██████████████▋                               | 23/72 [00:45<01:40,  2.05s/it]"
     ]
    },
    {
     "name": "stdout",
     "output_type": "stream",
     "text": [
      "https://washingtondc.craigslist.org/nva/evg/d/woodbridge-retail-event-marketer/7620257539.html\n"
     ]
    },
    {
     "name": "stderr",
     "output_type": "stream",
     "text": [
      "\r",
      "Scraping the contents of the urls :  33%|███████████████▎                              | 24/72 [00:47<01:37,  2.03s/it]"
     ]
    },
    {
     "name": "stdout",
     "output_type": "stream",
     "text": [
      "https://washingtondc.craigslist.org/nva/evg/d/centreville-retail-event-marketer/7619494495.html\n"
     ]
    },
    {
     "name": "stderr",
     "output_type": "stream",
     "text": [
      "\r",
      "Scraping the contents of the urls :  35%|███████████████▉                              | 25/72 [00:49<01:35,  2.03s/it]"
     ]
    },
    {
     "name": "stdout",
     "output_type": "stream",
     "text": [
      "https://washingtondc.craigslist.org/mld/evg/d/washington-retail-event-marketer/7619494473.html\n"
     ]
    },
    {
     "name": "stderr",
     "output_type": "stream",
     "text": [
      "\r",
      "Scraping the contents of the urls :  36%|████████████████▌                             | 26/72 [00:51<01:33,  2.03s/it]"
     ]
    },
    {
     "name": "stdout",
     "output_type": "stream",
     "text": [
      "https://washingtondc.craigslist.org/mld/evg/d/district-heights-retail-event-marketer/7619493532.html\n"
     ]
    },
    {
     "name": "stderr",
     "output_type": "stream",
     "text": [
      "\r",
      "Scraping the contents of the urls :  38%|█████████████████▎                            | 27/72 [00:53<01:31,  2.03s/it]"
     ]
    },
    {
     "name": "stdout",
     "output_type": "stream",
     "text": [
      "https://washingtondc.craigslist.org/nva/evg/d/sterling-retail-event-marketer/7619493504.html\n"
     ]
    },
    {
     "name": "stderr",
     "output_type": "stream",
     "text": [
      "\r",
      "Scraping the contents of the urls :  39%|█████████████████▉                            | 28/72 [00:55<01:28,  2.02s/it]"
     ]
    },
    {
     "name": "stdout",
     "output_type": "stream",
     "text": [
      "https://washingtondc.craigslist.org/nva/evg/d/chantilly-retail-event-marketer/7619492290.html\n"
     ]
    },
    {
     "name": "stderr",
     "output_type": "stream",
     "text": [
      "\r",
      "Scraping the contents of the urls :  40%|██████████████████▌                           | 29/72 [00:57<01:27,  2.04s/it]"
     ]
    },
    {
     "name": "stdout",
     "output_type": "stream",
     "text": [
      "https://washingtondc.craigslist.org/nva/evg/d/woodbridge-retail-event-marketer/7619491025.html\n"
     ]
    },
    {
     "name": "stderr",
     "output_type": "stream",
     "text": [
      "\r",
      "Scraping the contents of the urls :  42%|███████████████████▏                          | 30/72 [00:59<01:22,  1.95s/it]"
     ]
    },
    {
     "name": "stdout",
     "output_type": "stream",
     "text": [
      "https://washingtondc.craigslist.org/nva/evg/d/centreville-retail-event-marketer/7619029223.html\n"
     ]
    },
    {
     "name": "stderr",
     "output_type": "stream",
     "text": [
      "\r",
      "Scraping the contents of the urls :  43%|███████████████████▊                          | 31/72 [01:00<01:17,  1.90s/it]"
     ]
    },
    {
     "name": "stdout",
     "output_type": "stream",
     "text": [
      "https://washingtondc.craigslist.org/mld/evg/d/greenbelt-virtual-focus-group/7614200360.html\n"
     ]
    },
    {
     "name": "stderr",
     "output_type": "stream",
     "text": [
      "\r",
      "Scraping the contents of the urls :  44%|████████████████████▍                         | 32/72 [01:02<01:18,  1.95s/it]"
     ]
    },
    {
     "name": "stdout",
     "output_type": "stream",
     "text": [
      "https://washingtondc.craigslist.org/nva/evg/d/centreville-retail-event-marketer/7618038170.html\n"
     ]
    },
    {
     "name": "stderr",
     "output_type": "stream",
     "text": [
      "\r",
      "Scraping the contents of the urls :  46%|█████████████████████                         | 33/72 [01:04<01:17,  1.98s/it]"
     ]
    },
    {
     "name": "stdout",
     "output_type": "stream",
     "text": [
      "https://washingtondc.craigslist.org/mld/evg/d/washington-retail-event-marketer/7617661533.html\n"
     ]
    },
    {
     "name": "stderr",
     "output_type": "stream",
     "text": [
      "\r",
      "Scraping the contents of the urls :  47%|█████████████████████▋                        | 34/72 [01:07<01:16,  2.00s/it]"
     ]
    },
    {
     "name": "stdout",
     "output_type": "stream",
     "text": [
      "https://washingtondc.craigslist.org/mld/evg/d/district-heights-retail-event-marketer/7617660864.html\n"
     ]
    },
    {
     "name": "stderr",
     "output_type": "stream",
     "text": [
      "\r",
      "Scraping the contents of the urls :  49%|██████████████████████▎                       | 35/72 [01:09<01:14,  2.01s/it]"
     ]
    },
    {
     "name": "stdout",
     "output_type": "stream",
     "text": [
      "https://washingtondc.craigslist.org/nva/evg/d/sterling-retail-event-marketer/7617660841.html\n"
     ]
    },
    {
     "name": "stderr",
     "output_type": "stream",
     "text": [
      "\r",
      "Scraping the contents of the urls :  50%|███████████████████████                       | 36/72 [01:11<01:12,  2.01s/it]"
     ]
    },
    {
     "name": "stdout",
     "output_type": "stream",
     "text": [
      "https://washingtondc.craigslist.org/nva/evg/d/chantilly-retail-event-marketer/7617656234.html\n"
     ]
    },
    {
     "name": "stderr",
     "output_type": "stream",
     "text": [
      "\r",
      "Scraping the contents of the urls :  51%|███████████████████████▋                      | 37/72 [01:13<01:10,  2.01s/it]"
     ]
    },
    {
     "name": "stdout",
     "output_type": "stream",
     "text": [
      "https://washingtondc.craigslist.org/nva/evg/d/woodbridge-retail-event-marketer/7617656149.html\n"
     ]
    },
    {
     "name": "stderr",
     "output_type": "stream",
     "text": [
      "\r",
      "Scraping the contents of the urls :  53%|████████████████████████▎                     | 38/72 [01:15<01:08,  2.03s/it]"
     ]
    },
    {
     "name": "stdout",
     "output_type": "stream",
     "text": [
      "https://washingtondc.craigslist.org/nva/evg/d/centreville-retail-event-marketer/7617303223.html\n"
     ]
    },
    {
     "name": "stderr",
     "output_type": "stream",
     "text": [
      "\r",
      "Scraping the contents of the urls :  54%|████████████████████████▉                     | 39/72 [01:17<01:12,  2.20s/it]"
     ]
    },
    {
     "name": "stdout",
     "output_type": "stream",
     "text": [
      "https://washingtondc.craigslist.org/nva/evg/d/centreville-retail-event-marketer/7616941135.html\n"
     ]
    },
    {
     "name": "stderr",
     "output_type": "stream",
     "text": [
      "\r",
      "Scraping the contents of the urls :  56%|█████████████████████████▌                    | 40/72 [01:19<01:08,  2.15s/it]"
     ]
    },
    {
     "name": "stdout",
     "output_type": "stream",
     "text": [
      "https://washingtondc.craigslist.org/mld/evg/d/washington-retail-event-marketer/7616940698.html\n"
     ]
    },
    {
     "name": "stderr",
     "output_type": "stream",
     "text": [
      "\r",
      "Scraping the contents of the urls :  57%|██████████████████████████▏                   | 41/72 [01:21<01:05,  2.11s/it]"
     ]
    },
    {
     "name": "stdout",
     "output_type": "stream",
     "text": [
      "https://washingtondc.craigslist.org/mld/evg/d/district-heights-retail-event-marketer/7616938656.html\n"
     ]
    },
    {
     "name": "stderr",
     "output_type": "stream",
     "text": [
      "\r",
      "Scraping the contents of the urls :  58%|██████████████████████████▊                   | 42/72 [01:23<01:02,  2.08s/it]"
     ]
    },
    {
     "name": "stdout",
     "output_type": "stream",
     "text": [
      "https://washingtondc.craigslist.org/nva/evg/d/sterling-retail-event-marketer/7616938331.html\n"
     ]
    },
    {
     "name": "stderr",
     "output_type": "stream",
     "text": [
      "\r",
      "Scraping the contents of the urls :  60%|███████████████████████████▍                  | 43/72 [01:25<01:00,  2.07s/it]"
     ]
    },
    {
     "name": "stdout",
     "output_type": "stream",
     "text": [
      "https://washingtondc.craigslist.org/nva/evg/d/chantilly-retail-event-marketer/7616933943.html\n"
     ]
    },
    {
     "name": "stderr",
     "output_type": "stream",
     "text": [
      "\r",
      "Scraping the contents of the urls :  61%|████████████████████████████                  | 44/72 [01:27<00:53,  1.92s/it]"
     ]
    },
    {
     "name": "stdout",
     "output_type": "stream",
     "text": [
      "https://washingtondc.craigslist.org/nva/evg/d/woodbridge-retail-event-marketer/7616931909.html\n"
     ]
    },
    {
     "name": "stderr",
     "output_type": "stream",
     "text": [
      "\r",
      "Scraping the contents of the urls :  62%|████████████████████████████▊                 | 45/72 [01:29<00:52,  1.95s/it]"
     ]
    },
    {
     "name": "stdout",
     "output_type": "stream",
     "text": [
      "https://washingtondc.craigslist.org/mld/evg/d/gaithersburg-retail-event-marketer/7615138016.html\n"
     ]
    },
    {
     "name": "stderr",
     "output_type": "stream",
     "text": [
      "\r",
      "Scraping the contents of the urls :  64%|█████████████████████████████▍                | 46/72 [01:31<00:51,  1.97s/it]"
     ]
    },
    {
     "name": "stdout",
     "output_type": "stream",
     "text": [
      "https://washingtondc.craigslist.org/nva/evg/d/chantilly-retail-event-marketer/7615131600.html\n"
     ]
    },
    {
     "name": "stderr",
     "output_type": "stream",
     "text": [
      "\r",
      "Scraping the contents of the urls :  65%|██████████████████████████████                | 47/72 [01:33<00:50,  2.00s/it]"
     ]
    },
    {
     "name": "stdout",
     "output_type": "stream",
     "text": [
      "https://washingtondc.craigslist.org/nva/evg/d/leesburg-retail-event-marketer/7615129372.html\n"
     ]
    },
    {
     "name": "stderr",
     "output_type": "stream",
     "text": [
      "\r",
      "Scraping the contents of the urls :  67%|██████████████████████████████▋               | 48/72 [01:35<00:48,  2.01s/it]"
     ]
    },
    {
     "name": "stdout",
     "output_type": "stream",
     "text": [
      "https://washingtondc.craigslist.org/nva/evg/d/sterling-retail-event-marketer/7615129310.html\n"
     ]
    },
    {
     "name": "stderr",
     "output_type": "stream",
     "text": [
      "\r",
      "Scraping the contents of the urls :  68%|███████████████████████████████▎              | 49/72 [01:37<00:46,  2.02s/it]"
     ]
    },
    {
     "name": "stdout",
     "output_type": "stream",
     "text": [
      "https://washingtondc.craigslist.org/nva/evg/d/woodbridge-retail-event-marketer/7615129240.html\n"
     ]
    },
    {
     "name": "stderr",
     "output_type": "stream",
     "text": [
      "\r",
      "Scraping the contents of the urls :  69%|███████████████████████████████▉              | 50/72 [01:39<00:44,  2.03s/it]"
     ]
    },
    {
     "name": "stdout",
     "output_type": "stream",
     "text": [
      "https://washingtondc.craigslist.org/mld/evg/d/washington-retail-event-marketer/7615127419.html\n"
     ]
    },
    {
     "name": "stderr",
     "output_type": "stream",
     "text": [
      "\r",
      "Scraping the contents of the urls :  71%|████████████████████████████████▌             | 51/72 [01:41<00:42,  2.02s/it]"
     ]
    },
    {
     "name": "stdout",
     "output_type": "stream",
     "text": [
      "https://washingtondc.craigslist.org/mld/evg/d/gaithersburg-retail-event-marketer/7614415396.html\n"
     ]
    },
    {
     "name": "stderr",
     "output_type": "stream",
     "text": [
      "\r",
      "Scraping the contents of the urls :  72%|█████████████████████████████████▏            | 52/72 [01:43<00:40,  2.04s/it]"
     ]
    },
    {
     "name": "stdout",
     "output_type": "stream",
     "text": [
      "https://washingtondc.craigslist.org/nva/evg/d/chantilly-retail-event-marketer/7614409713.html\n"
     ]
    },
    {
     "name": "stderr",
     "output_type": "stream",
     "text": [
      "\r",
      "Scraping the contents of the urls :  74%|█████████████████████████████████▊            | 53/72 [01:45<00:38,  2.05s/it]"
     ]
    },
    {
     "name": "stdout",
     "output_type": "stream",
     "text": [
      "https://washingtondc.craigslist.org/nva/evg/d/leesburg-retail-event-marketer/7614407320.html\n"
     ]
    },
    {
     "name": "stderr",
     "output_type": "stream",
     "text": [
      "\r",
      "Scraping the contents of the urls :  75%|██████████████████████████████████▌           | 54/72 [01:47<00:36,  2.04s/it]"
     ]
    },
    {
     "name": "stdout",
     "output_type": "stream",
     "text": [
      "https://washingtondc.craigslist.org/nva/evg/d/sterling-retail-event-marketer/7614407260.html\n"
     ]
    },
    {
     "name": "stderr",
     "output_type": "stream",
     "text": [
      "\r",
      "Scraping the contents of the urls :  76%|███████████████████████████████████▏          | 55/72 [01:49<00:34,  2.05s/it]"
     ]
    },
    {
     "name": "stdout",
     "output_type": "stream",
     "text": [
      "https://washingtondc.craigslist.org/nva/evg/d/woodbridge-retail-event-marketer/7614407183.html\n"
     ]
    },
    {
     "name": "stderr",
     "output_type": "stream",
     "text": [
      "\r",
      "Scraping the contents of the urls :  78%|███████████████████████████████████▊          | 56/72 [01:51<00:32,  2.05s/it]"
     ]
    },
    {
     "name": "stdout",
     "output_type": "stream",
     "text": [
      "https://washingtondc.craigslist.org/mld/evg/d/washington-retail-event-marketer/7614406176.html\n"
     ]
    },
    {
     "name": "stderr",
     "output_type": "stream",
     "text": [
      "\r",
      "Scraping the contents of the urls :  79%|████████████████████████████████████▍         | 57/72 [01:53<00:29,  1.98s/it]"
     ]
    },
    {
     "name": "stdout",
     "output_type": "stream",
     "text": [
      "https://washingtondc.craigslist.org/doc/lbg/d/washington-having-trouble-focusing/7620353177.html\n"
     ]
    },
    {
     "name": "stderr",
     "output_type": "stream",
     "text": [
      "\r",
      "Scraping the contents of the urls :  81%|█████████████████████████████████████         | 58/72 [01:55<00:28,  2.00s/it]"
     ]
    },
    {
     "name": "stdout",
     "output_type": "stream",
     "text": [
      "https://washingtondc.craigslist.org/mld/evg/d/gaithersburg-retail-event-marketer/7612661521.html\n"
     ]
    },
    {
     "name": "stderr",
     "output_type": "stream",
     "text": [
      "\r",
      "Scraping the contents of the urls :  82%|█████████████████████████████████████▋        | 59/72 [01:57<00:26,  2.01s/it]"
     ]
    },
    {
     "name": "stdout",
     "output_type": "stream",
     "text": [
      "https://washingtondc.craigslist.org/nva/evg/d/chantilly-retail-event-marketer/7612656517.html\n"
     ]
    },
    {
     "name": "stderr",
     "output_type": "stream",
     "text": [
      "\r",
      "Scraping the contents of the urls :  83%|██████████████████████████████████████▎       | 60/72 [01:59<00:24,  2.03s/it]"
     ]
    },
    {
     "name": "stdout",
     "output_type": "stream",
     "text": [
      "https://washingtondc.craigslist.org/nva/evg/d/leesburg-retail-event-marketer/7612654700.html\n"
     ]
    },
    {
     "name": "stderr",
     "output_type": "stream",
     "text": [
      "\r",
      "Scraping the contents of the urls :  85%|██████████████████████████████████████▉       | 61/72 [02:01<00:22,  2.04s/it]"
     ]
    },
    {
     "name": "stdout",
     "output_type": "stream",
     "text": [
      "https://washingtondc.craigslist.org/nva/evg/d/sterling-retail-event-marketer/7612654597.html\n"
     ]
    },
    {
     "name": "stderr",
     "output_type": "stream",
     "text": [
      "\r",
      "Scraping the contents of the urls :  86%|███████████████████████████████████████▌      | 62/72 [02:03<00:20,  2.03s/it]"
     ]
    },
    {
     "name": "stdout",
     "output_type": "stream",
     "text": [
      "https://washingtondc.craigslist.org/nva/evg/d/woodbridge-retail-event-marketer/7612654513.html\n"
     ]
    },
    {
     "name": "stderr",
     "output_type": "stream",
     "text": [
      "\r",
      "Scraping the contents of the urls :  88%|████████████████████████████████████████▎     | 63/72 [02:06<00:18,  2.03s/it]"
     ]
    },
    {
     "name": "stdout",
     "output_type": "stream",
     "text": [
      "https://washingtondc.craigslist.org/mld/evg/d/washington-retail-event-marketer/7612653290.html\n"
     ]
    },
    {
     "name": "stderr",
     "output_type": "stream",
     "text": [
      "\r",
      "Scraping the contents of the urls :  89%|████████████████████████████████████████▉     | 64/72 [02:08<00:16,  2.05s/it]"
     ]
    },
    {
     "name": "stdout",
     "output_type": "stream",
     "text": [
      "https://washingtondc.craigslist.org/mld/evg/d/gaithersburg-retail-event-marketer/7611969303.html\n"
     ]
    },
    {
     "name": "stderr",
     "output_type": "stream",
     "text": [
      "\r",
      "Scraping the contents of the urls :  90%|█████████████████████████████████████████▌    | 65/72 [02:10<00:14,  2.04s/it]"
     ]
    },
    {
     "name": "stdout",
     "output_type": "stream",
     "text": [
      "https://washingtondc.craigslist.org/nva/evg/d/chantilly-retail-event-marketer/7611961402.html\n"
     ]
    },
    {
     "name": "stderr",
     "output_type": "stream",
     "text": [
      "\r",
      "Scraping the contents of the urls :  92%|██████████████████████████████████████████▏   | 66/72 [02:12<00:12,  2.05s/it]"
     ]
    },
    {
     "name": "stdout",
     "output_type": "stream",
     "text": [
      "https://washingtondc.craigslist.org/nva/evg/d/leesburg-retail-event-marketer/7611958094.html\n"
     ]
    },
    {
     "name": "stderr",
     "output_type": "stream",
     "text": [
      "\r",
      "Scraping the contents of the urls :  93%|██████████████████████████████████████████▊   | 67/72 [02:14<00:10,  2.04s/it]"
     ]
    },
    {
     "name": "stdout",
     "output_type": "stream",
     "text": [
      "https://washingtondc.craigslist.org/nva/evg/d/sterling-retail-event-marketer/7611957997.html\n"
     ]
    },
    {
     "name": "stderr",
     "output_type": "stream",
     "text": [
      "\r",
      "Scraping the contents of the urls :  94%|███████████████████████████████████████████▍  | 68/72 [02:16<00:08,  2.03s/it]"
     ]
    },
    {
     "name": "stdout",
     "output_type": "stream",
     "text": [
      "https://washingtondc.craigslist.org/nva/evg/d/woodbridge-retail-event-marketer/7611957934.html\n"
     ]
    },
    {
     "name": "stderr",
     "output_type": "stream",
     "text": [
      "\r",
      "Scraping the contents of the urls :  96%|████████████████████████████████████████████  | 69/72 [02:18<00:06,  2.06s/it]"
     ]
    },
    {
     "name": "stdout",
     "output_type": "stream",
     "text": [
      "https://washingtondc.craigslist.org/mld/evg/d/washington-retail-event-marketer/7611954607.html\n"
     ]
    },
    {
     "name": "stderr",
     "output_type": "stream",
     "text": [
      "\r",
      "Scraping the contents of the urls :  97%|████████████████████████████████████████████▋ | 70/72 [02:20<00:04,  2.00s/it]"
     ]
    },
    {
     "name": "stdout",
     "output_type": "stream",
     "text": [
      "https://washingtondc.craigslist.org/doc/evg/d/washington-wedding-videographers-wanted/7617028449.html\n"
     ]
    },
    {
     "name": "stderr",
     "output_type": "stream",
     "text": [
      "\r",
      "Scraping the contents of the urls :  99%|█████████████████████████████████████████████▎| 71/72 [02:21<00:01,  1.94s/it]"
     ]
    },
    {
     "name": "stdout",
     "output_type": "stream",
     "text": [
      "https://washingtondc.craigslist.org/doc/evg/d/washington-wedding-photographers-wanted/7617028387.html\n"
     ]
    },
    {
     "name": "stderr",
     "output_type": "stream",
     "text": [
      "Scraping the contents of the urls : 100%|██████████████████████████████████████████████| 72/72 [02:23<00:00,  2.00s/it]"
     ]
    },
    {
     "name": "stdout",
     "output_type": "stream",
     "text": [
      "https://washingtondc.craigslist.org/doc/dmg/d/washington-having-trouble-focusing/7615282547.html\n"
     ]
    },
    {
     "name": "stderr",
     "output_type": "stream",
     "text": [
      "\n"
     ]
    }
   ],
   "source": [
    "scraping()"
   ]
  },
  {
   "cell_type": "code",
   "execution_count": 36,
   "id": "ba64993b",
   "metadata": {},
   "outputs": [
    {
     "name": "stderr",
     "output_type": "stream",
     "text": [
      "getting all the urls: 23it [00:37,  1.63s/it]\n",
      "10it [00:18,  1.90s/it]\n"
     ]
    }
   ],
   "source": [
    "#results = list(tqdm(executor.map(get_scraping_contents, urls), total=len(urls)))\n",
    "\n",
    "with ThreadPoolExecutor(1) as executor:\n",
    "    list(tqdm(executor.map(get_scraping_contents,get_urls())))"
   ]
  },
  {
   "cell_type": "code",
   "execution_count": 17,
   "id": "6b67ce9e",
   "metadata": {},
   "outputs": [
    {
     "name": "stdout",
     "output_type": "stream",
     "text": [
      "['atlanta', 'austin', 'boston', 'chicago', 'dallas', 'denver', 'detroit', 'houston', 'lasvegas', 'losangeles', 'miami', 'minneapolis', 'newyork', 'orangecounty', 'philadelphia', 'phoenix', 'portland', 'raleigh', 'sacramento', 'sandiego', 'seattle', 'sfbayarea', 'washingtondc']\n"
     ]
    },
    {
     "data": {
      "text/plain": [
       "23"
      ]
     },
     "execution_count": 17,
     "metadata": {},
     "output_type": "execute_result"
    }
   ],
   "source": [
    "#getting the name of  all the cities\n",
    "url2='https://atlanta.craigslist.org/'\n",
    "us_cities=[]\n",
    "response=requests.get(url2)\n",
    "doc=BeautifulSoup(response.text,'html.parser')\n",
    "h5_tags=doc.find_all('ul',class_='acitem')\n",
    "for city in h5_tags[1]:\n",
    "    us_cities.append(city.text.strip())\n",
    "[us_cities.remove('')for c in us_cities]\n",
    "pattern= r'\\xa0'\n",
    "the_cities=[re.sub(pattern,'',s)for s in us_cities][:-1]\n",
    "the_cities=[city.replace(\"wash dc\",\"washingtondc\")for city in the_cities]\n",
    "the_cities=[city.replace(\"orangeco\",\"orangecounty\")for city in the_cities]\n",
    "print(the_cities)\n",
    "len(the_cities)"
   ]
  },
  {
   "cell_type": "code",
   "execution_count": 18,
   "id": "64d7bc96",
   "metadata": {},
   "outputs": [],
   "source": [
    "#get the area Id\n",
    "def get_area_id():\n",
    "   # areas_id=[]\n",
    "    for one_city in the_cities:\n",
    "        #def get_area_id():\n",
    "            url=f\"https://{one_city}.craigslist.org/search/ggg?query=focus%20groups#search=1~thumb~0~2\" \n",
    "            response=requests.get(url)\n",
    "            doc=BeautifulSoup(response.text,'html.parser')\n",
    "            script=doc.find_all('script')\n",
    "            script_str=str(script[1])\n",
    "            match = re.search(r'areaId: \"(\\d+)\"',script_str)\n",
    "            if match:\n",
    "                area_id = match.group(1)\n",
    "                print(f\"{one_city}:{area_id}\")\n",
    "                areas_id.append(area_id)\n",
    "    #return areas_id\n",
    "\n",
    "    #with ThreadPoolExecutor(5) as executor:\n",
    "        #executor.map(get_area_id, the_cities)\n",
    "\n",
    " \n",
    "\n",
    "\n"
   ]
  },
  {
   "cell_type": "code",
   "execution_count": 19,
   "id": "21831cce",
   "metadata": {},
   "outputs": [
    {
     "name": "stdout",
     "output_type": "stream",
     "text": [
      "atlanta:14\n",
      "austin:15\n",
      "boston:4\n",
      "chicago:11\n",
      "dallas:21\n",
      "denver:13\n",
      "detroit:22\n",
      "houston:23\n",
      "lasvegas:26\n",
      "losangeles:7\n",
      "miami:20\n",
      "minneapolis:19\n",
      "newyork:3\n",
      "orangecounty:103\n",
      "philadelphia:17\n",
      "phoenix:18\n",
      "portland:9\n",
      "raleigh:36\n",
      "sacramento:12\n",
      "sandiego:8\n",
      "seattle:2\n",
      "sfbayarea:1\n",
      "washingtondc:10\n"
     ]
    },
    {
     "data": {
      "text/plain": [
       "[]"
      ]
     },
     "execution_count": 19,
     "metadata": {},
     "output_type": "execute_result"
    }
   ],
   "source": [
    "get_area_id()\n"
   ]
  },
  {
   "cell_type": "code",
   "execution_count": 49,
   "id": "d7943f03",
   "metadata": {},
   "outputs": [],
   "source": [
    "def get_location(one_id):\n",
    "    url=f\"'https://sapi.craigslist.org/web/v8/postings/search/full?batch={one_id}-0-360-0-0&cc=US&lang=en&query=focus%20groups&searchPath=ggg'\"\n",
    "    response=requests.get(url)\n",
    "    json_response=json.loads(response.text)\n",
    "    the_location=json_response['data']['decode']['locations']#getting the location\n",
    "    loc_dict={}\n",
    "    lst=list(the_location)\n",
    "    for i in range(len(lst)):\n",
    "        try:\n",
    "            loc_dict[i]=lst[i][1]\n",
    "        except :\n",
    "            pass\n",
    "    print(loc_dict)\n",
    "with ThreadPoolExecutor() as executor:\n",
    "    executor.map(get_location, get_area_id())\n",
    "        "
   ]
  },
  {
   "cell_type": "code",
   "execution_count": null,
   "id": "dbd2b673",
   "metadata": {},
   "outputs": [],
   "source": []
  },
  {
   "cell_type": "code",
   "execution_count": null,
   "id": "3b53e8ff",
   "metadata": {},
   "outputs": [],
   "source": [
    "#generating all the areaId\n",
    "url=f\"https://{the_cities[i]}.craigslist.org/search/ggg?query=focus%20groups#search=1~thumb~0~2\""
   ]
  },
  {
   "cell_type": "code",
   "execution_count": null,
   "id": "1b194ea5",
   "metadata": {},
   "outputs": [],
   "source": [
    "subareas: [{\"abbr\":\"atl\",\"name\":\"atlanta\",\"id\":1},{\"abbr\":\"nat\",\"name\":\"otp north\",\"id\":2},{\"abbr\":\"eat\",\"name\":\"otp east\",\"id\":3},{\"abbr\":\"sat\",\"name\":\"otp south\",\"id\":4},{\"abbr\":\"wat\",\"name\":\"otp west\",\"id\":5}],\n"
   ]
  },
  {
   "cell_type": "code",
   "execution_count": null,
   "id": "a8bc0101",
   "metadata": {},
   "outputs": [],
   "source": [
    "https://boston.craigslist.org/evg/d/hyde-park-jury-research-project-focus/7619490977.html\n",
    "https://boston.craigslist.org/gbs/evg/d/hyde-park-jury-research-project-focus/7618840570.html"
   ]
  }
 ],
 "metadata": {
  "kernelspec": {
   "display_name": "Python 3 (ipykernel)",
   "language": "python",
   "name": "python3"
  },
  "language_info": {
   "codemirror_mode": {
    "name": "ipython",
    "version": 3
   },
   "file_extension": ".py",
   "mimetype": "text/x-python",
   "name": "python",
   "nbconvert_exporter": "python",
   "pygments_lexer": "ipython3",
   "version": "3.10.9"
  }
 },
 "nbformat": 4,
 "nbformat_minor": 5
}
